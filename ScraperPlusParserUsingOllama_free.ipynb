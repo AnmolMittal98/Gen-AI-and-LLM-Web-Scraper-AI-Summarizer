{
 "cells": [
  {
   "cell_type": "code",
   "execution_count": 1,
   "id": "186a9e45",
   "metadata": {},
   "outputs": [],
   "source": [
    "#Using Ollama "
   ]
  },
  {
   "cell_type": "markdown",
   "id": "b3c5ec10",
   "metadata": {},
   "source": [
    "Benefits:\n",
    "\n",
    "No API charges - open-source\n",
    "Data doesn't leave your box\n",
    "Disadvantages:\n",
    "\n",
    "Significantly less power than Frontier Model\n",
    "Recap on installation of Ollama\n",
    "Simply visit ollama.com and install!\n",
    "\n",
    "Once complete, the ollama server should already be running locally.\n",
    "If you visit:\n",
    "http://localhost:11434/\n",
    "\n",
    "You should see the message Ollama is running.\n",
    "\n",
    "If not, bring up a new Terminal (Mac) or Powershell (Windows) and enter ollama serve\n",
    "And in another Terminal (Mac) or Powershell (Windows), enter ollama pull llama3.2\n",
    "Then try http://localhost:11434/ again.\n",
    "\n",
    "If Ollama is slow on your machine, try using llama3.2:1b as an alternative. Run ollama pull llama3.2:1b from a Terminal or Powershell, and change the code below from MODEL = \"llama3.2\" to MODEL = \"llama3.2:1b\""
   ]
  },
  {
   "cell_type": "code",
   "execution_count": 2,
   "id": "ec65c481",
   "metadata": {},
   "outputs": [],
   "source": [
    "#Test the Ollama model"
   ]
  },
  {
   "cell_type": "code",
   "execution_count": 3,
   "id": "929db960",
   "metadata": {},
   "outputs": [],
   "source": [
    "# imports\n",
    "\n",
    "import requests\n",
    "from bs4 import BeautifulSoup\n",
    "from IPython.display import Markdown, display"
   ]
  },
  {
   "cell_type": "code",
   "execution_count": 4,
   "id": "a270dc30",
   "metadata": {},
   "outputs": [],
   "source": [
    "# Constants\n",
    "\n",
    "OLLAMA_API = \"http://localhost:11434/api/chat\"\n",
    "HEADERS = {\"Content-Type\": \"application/json\"}\n",
    "MODEL = \"llama3.2\""
   ]
  },
  {
   "cell_type": "code",
   "execution_count": 5,
   "id": "8b5f6157-7aff-40e3-ae0e-a25095a7da44",
   "metadata": {},
   "outputs": [],
   "source": [
    "# Create a messages list using the same format that we used for OpenAI\n",
    "\n",
    "messages = [\n",
    "    {\"role\": \"user\", \"content\": \"Describe some of the business applications of Generative AI\"}\n",
    "]"
   ]
  },
  {
   "cell_type": "code",
   "execution_count": 6,
   "id": "03a2b591-dc25-40b2-a349-e244a62f3b63",
   "metadata": {},
   "outputs": [],
   "source": [
    "payload = {\n",
    "        \"model\": MODEL,\n",
    "        \"messages\": messages,\n",
    "        \"stream\": False\n",
    "    }"
   ]
  },
  {
   "cell_type": "code",
   "execution_count": 7,
   "id": "fbd57b16-ef90-437a-bde0-24f9a5adc60c",
   "metadata": {},
   "outputs": [
    {
     "name": "stdout",
     "output_type": "stream",
     "text": [
      "\u001b[?2026h\u001b[?25l\u001b[1Gpulling manifest ⠋ \u001b[K\u001b[?25h\u001b[?2026l\u001b[?2026h\u001b[?25l\u001b[1Gpulling manifest ⠙ \u001b[K\u001b[?25h\u001b[?2026l\u001b[?2026h\u001b[?25l\u001b[1Gpulling manifest ⠹ \u001b[K\u001b[?25h\u001b[?2026l\u001b[?2026h\u001b[?25l\u001b[1Gpulling manifest ⠸ \u001b[K\u001b[?25h\u001b[?2026l\u001b[?2026h\u001b[?25l\u001b[1Gpulling manifest \u001b[K\n",
      "pulling dde5aa3fc5ff: 100% ▕██████████████████▏ 2.0 GB                         \u001b[K\n",
      "pulling 966de95ca8a6: 100% ▕██████████████████▏ 1.4 KB                         \u001b[K\n",
      "pulling fcc5a6bec9da: 100% ▕██████████████████▏ 7.7 KB                         \u001b[K\n",
      "pulling a70ff7e570d9: 100% ▕██████████████████▏ 6.0 KB                         \u001b[K\n",
      "pulling 56bb8bd477a5: 100% ▕██████████████████▏   96 B                         \u001b[K\n",
      "pulling 34bb5ab01051: 100% ▕██████████████████▏  561 B                         \u001b[K\n",
      "verifying sha256 digest \u001b[K\n",
      "writing manifest \u001b[K\n",
      "success \u001b[K\u001b[?25h\u001b[?2026l\n"
     ]
    }
   ],
   "source": [
    "# Let's just make sure the model is loaded\n",
    "\n",
    "!ollama pull llama3.2"
   ]
  },
  {
   "cell_type": "code",
   "execution_count": 8,
   "id": "2265067e-f601-46db-a1ad-a44340d03910",
   "metadata": {},
   "outputs": [
    {
     "name": "stdout",
     "output_type": "stream",
     "text": [
      "Generative AI has numerous business applications across various industries. Here are some examples:\n",
      "\n",
      "1. **Content Generation**: Generative AI can be used to generate high-quality content such as articles, social media posts, product descriptions, and more. This can help businesses save time and resources while maintaining consistency in their content.\n",
      "2. **Product Design**: Generative AI can be used to design new products, packaging, and even entire brands. This can help businesses reduce the time and cost associated with designing new products.\n",
      "3. **Marketing Automation**: Generative AI can be used to automate marketing tasks such as lead generation, email campaigns, and social media posting. This can help businesses scale their marketing efforts while improving efficiency.\n",
      "4. **Customer Service Chatbots**: Generative AI can be used to create chatbots that can understand and respond to customer inquiries in a more human-like way. This can help businesses improve their customer service experience while reducing the cost of staffing.\n",
      "5. **Data Analysis**: Generative AI can be used to analyze large datasets and identify patterns, trends, and insights that may not have been apparent through traditional analysis methods. This can help businesses make better decisions and gain a competitive advantage.\n",
      "6. **Predictive Maintenance**: Generative AI can be used to predict equipment failures and schedule maintenance accordingly. This can help businesses reduce downtime and improve overall efficiency.\n",
      "7. **Image and Video Generation**: Generative AI can be used to generate images and videos that are indistinguishable from those created by humans. This can help businesses create high-quality visual content for advertising, marketing, and other purposes.\n",
      "8. **Supply Chain Optimization**: Generative AI can be used to optimize supply chain operations such as predicting demand, managing inventory, and scheduling logistics. This can help businesses reduce costs and improve efficiency.\n",
      "9. **Financial Analysis**: Generative AI can be used to analyze financial data and identify trends, patterns, and insights that may not have been apparent through traditional analysis methods. This can help businesses make better investment decisions and gain a competitive advantage.\n",
      "10. **Cybersecurity**: Generative AI can be used to detect and respond to cyber threats in real-time. This can help businesses improve their cybersecurity posture while reducing the risk of data breaches.\n",
      "\n",
      "Some specific business use cases for generative AI include:\n",
      "\n",
      "* Amazon's use of generative AI to generate product descriptions and packaging designs\n",
      "* Google's use of generative AI to create personalized ads and content recommendations\n",
      "* IBM's use of generative AI to analyze financial data and identify trends\n",
      "* Salesforce's use of generative AI to automate customer service and marketing tasks\n",
      "\n",
      "These are just a few examples of the many business applications of generative AI. As the technology continues to evolve, we can expect to see even more innovative uses cases emerge in the future.\n"
     ]
    }
   ],
   "source": [
    "response = requests.post(OLLAMA_API, json=payload, headers=HEADERS)\n",
    "print(response.json()['message']['content'])"
   ]
  },
  {
   "cell_type": "code",
   "execution_count": 9,
   "id": "3bd7dd73-d481-4434-b7cd-59ae4902aff3",
   "metadata": {},
   "outputs": [],
   "source": [
    "# Introducing the ollama package\n",
    "# And now we'll do the same thing, but using the elegant ollama python package instead of a direct HTTP call.\n",
    "\n",
    "# Under the hood, it's making the same call as above to the ollama server running at localhost:11434"
   ]
  },
  {
   "cell_type": "code",
   "execution_count": 10,
   "id": "10c27351-6cad-4609-bf13-c2813f4f813a",
   "metadata": {},
   "outputs": [
    {
     "name": "stdout",
     "output_type": "stream",
     "text": [
      "Generative AI has numerous business applications across various industries, including:\n",
      "\n",
      "1. **Content Generation**: Generative AI can create high-quality content such as articles, blog posts, social media posts, and even entire books. This can help businesses save time and resources on content creation.\n",
      "2. **Product Design**: Generative AI can be used to design new products, such as fashion items, home decor, or electronic devices. It can also be used to redesign existing products with minimal human intervention.\n",
      "3. **Image and Video Generation**: Generative AI can generate high-quality images and videos for various purposes, including marketing campaigns, advertising, and social media content.\n",
      "4. **Chatbots and Customer Service**: Generative AI-powered chatbots can provide 24/7 customer support, answering frequent questions and helping to resolve simple issues.\n",
      "5. **Recommendation Systems**: Generative AI can be used to create personalized product recommendations for e-commerce websites, increasing sales and customer satisfaction.\n",
      "6. **Data Analysis and Visualization**: Generative AI can analyze large datasets and generate insights, visualizations, and predictions, helping businesses make data-driven decisions.\n",
      "7. **Marketing Automation**: Generative AI can automate marketing tasks such as email marketing campaigns, ad creation, and lead generation.\n",
      "8. **Creative Writing**: Generative AI can be used to write creative content such as scripts, poetry, or even entire novels.\n",
      "9. **Graphic Design**: Generative AI can generate high-quality graphics, logos, and icons for businesses and designers.\n",
      "10. **Predictive Maintenance**: Generative AI can analyze sensor data from machines and predict when maintenance is needed, reducing downtime and increasing efficiency.\n",
      "\n",
      "Some specific business applications of Generative AI include:\n",
      "\n",
      "* **Fashion brands**: Using Generative AI to design new clothing lines, customize products, or create personalized designs for customers.\n",
      "* **E-commerce websites**: Using Generative AI to generate product recommendations, optimize product listings, and automate customer service.\n",
      "* **Marketers**: Using Generative AI to automate marketing campaigns, create personalized ad content, and analyze campaign performance.\n",
      "* **Design firms**: Using Generative AI to design new products, architecture, or interior spaces.\n",
      "* **Manufacturers**: Using Generative AI to optimize production processes, predict maintenance needs, and improve product quality.\n",
      "\n",
      "These are just a few examples of the many business applications of Generative AI. As the technology continues to evolve, we can expect to see even more innovative uses in various industries.\n"
     ]
    }
   ],
   "source": [
    "import ollama\n",
    "\n",
    "response = ollama.chat(model=MODEL, messages=messages)\n",
    "print(response['message']['content'])"
   ]
  },
  {
   "cell_type": "code",
   "execution_count": 11,
   "id": "8bef345e-ca6d-4a20-9be7-df2150501e2b",
   "metadata": {},
   "outputs": [],
   "source": [
    "#Alternative approach - using OpenAI python library to connect to Ollama"
   ]
  },
  {
   "cell_type": "code",
   "execution_count": 12,
   "id": "adc307df-6eb7-4bf8-baf9-eab285c5476f",
   "metadata": {},
   "outputs": [
    {
     "name": "stdout",
     "output_type": "stream",
     "text": [
      "Generative AI has numerous business applications across various industries, including:\n",
      "\n",
      "1. **Content Generation**: Generative AI can create high-quality content such as articles, social media posts, and product descriptions, saving time and resources for content creators.\n",
      "2. **Chatbots and Virtual Assistants**: Generative AI enables the development of more sophisticated chatbots and virtual assistants, providing personalized customer experiences and improving customer service.\n",
      "3. **Image and Video Generation**: Generative AI can create realistic images and videos that can be used in various applications such as advertising, entertainment, and education.\n",
      "4. **Predictive Maintenance**: Generative AI can analyze sensor data to predict equipment failures, reducing maintenance costs and improving overall efficiency.\n",
      "5. **Personalized Recommendations**: Generative AI can generate personalized product recommendations for e-commerce businesses, enhancing customer experience and increasing sales.\n",
      "6. **Language Translation**: Generative AI can improve language translation accuracy, enabling seamless communication between people who speak different languages.\n",
      "7. **Digital Twinning**: Generative AI can create digital replicas of physical assets, allowing for improved design, simulation, and testing processes.\n",
      "8. **Marketing Automation**: Generative AI can automate marketing efforts by generating sales copy, social media posts, and email campaigns that resonate with target audiences.\n",
      "9. **Supply Chain Optimization**: Generative AI can analyze supply chain data to optimize logistics, reduce lead times, and improve inventory management.\n",
      "10. **Data Augmentation**: Generative AI can augment existing datasets, enabling machine learning models to learn from a larger and more diverse dataset.\n",
      "\n",
      "Some specific business applications of Generative AI include:\n",
      "\n",
      "* Fashion e-commerce platforms using generative avatars to personalized product recommendations\n",
      "* Healthcare companies using generative AI for patient data analysis and disease diagnosis\n",
      "* Financial institutions using generative AI for risk forecasting and credit scoring\n",
      "* Advertising agencies using generative AI for image and video creation\n",
      "* Retailers using generative AI for personalized customer experiences and chatbots.\n",
      "\n",
      "These are just a few examples of the many business applications of Generative AI. As the technology continues to evolve, we can expect to see even more innovative use cases in various industries.\n"
     ]
    }
   ],
   "source": [
    "# There's actually an alternative approach that some people might prefer\n",
    "# You can use the OpenAI client python library to call Ollama:\n",
    "\n",
    "from openai import OpenAI\n",
    "ollama_via_openai = OpenAI(base_url='http://localhost:11434/v1', api_key='ollama')\n",
    "\n",
    "response = ollama_via_openai.chat.completions.create(\n",
    "    model=MODEL,\n",
    "    messages=messages\n",
    ")\n",
    "\n",
    "print(response.choices[0].message.content)"
   ]
  },
  {
   "cell_type": "code",
   "execution_count": 13,
   "id": "b8e5a9e9-d486-4cdc-ac5f-4721d79d8d4d",
   "metadata": {},
   "outputs": [],
   "source": [
    "# Are you confused about why that works?\n",
    "# It seems strange, right? We just used OpenAI code to call Ollama?? What's going on?!\n",
    "\n",
    "# Here's the scoop:\n",
    "\n",
    "# The python class OpenAI is simply code written by OpenAI engineers that makes calls over the internet to an endpoint.\n",
    "\n",
    "# When you call openai.chat.completions.create(), this python code just makes a web request to the following url: \"https://api.openai.com/v1/chat/completions\"\n",
    "\n",
    "# Code like this is known as a \"client library\" - it's just wrapper code that runs on your machine to make web requests. The actual power of GPT is running on OpenAI's cloud behind this API, not on your computer!\n",
    "\n",
    "# OpenAI was so popular, that lots of other AI providers provided identical web endpoints, so you could use the same approach.\n",
    "\n",
    "# So Ollama has an endpoint running on your local box at http://localhost:11434/v1/chat/completions\n",
    "\n",
    "# And then the team at OpenAI had a great idea: they can extend their client library so you can specify a different 'base url', and use their library to call any compatible API.\n",
    "\n",
    "# That's it!\n",
    "\n",
    "# So when you say: ollama_via_openai = OpenAI(base_url='http://localhost:11434/v1', api_key='ollama')\n",
    "# Then this will make the same endpoint calls, but to Ollama instead of OpenAI."
   ]
  },
  {
   "cell_type": "code",
   "execution_count": 14,
   "id": "0c5bf936-11ee-49dc-afea-7d6ecccde30d",
   "metadata": {},
   "outputs": [],
   "source": [
    "# Now let's try to make the same Scraper + Summarizer using Ollama3.2"
   ]
  },
  {
   "cell_type": "code",
   "execution_count": 15,
   "id": "990d47f6-0826-4bc8-8c57-d487682f7c9b",
   "metadata": {},
   "outputs": [],
   "source": [
    "# We already have the imports above so we don't need to get them again."
   ]
  },
  {
   "cell_type": "code",
   "execution_count": 16,
   "id": "35d811c9-7043-43e4-821d-045dcefdab69",
   "metadata": {},
   "outputs": [],
   "source": [
    "def get_website_text(url):\n",
    "    response = requests.get(url)\n",
    "    soup = BeautifulSoup(response.content, 'html.parser')\n",
    "    # Remove scripts, styles, images, and inputs\n",
    "    for tag in soup(['script', 'style', 'img', 'input']):\n",
    "        tag.decompose()\n",
    "    # Get clean text\n",
    "    text = soup.get_text(separator=\"\\n\", strip=True)\n",
    "    return text"
   ]
  },
  {
   "cell_type": "code",
   "execution_count": 17,
   "id": "8f9fbc46-c49c-4790-9d97-a4c031cd0028",
   "metadata": {},
   "outputs": [],
   "source": [
    "system_prompt = \"You are an assistant that summarizes website content. Respond in markdown.\"\n",
    "user_prompt = \"Summarize the following website:\\n\\n\" + get_website_text(\"https://www.cnn.com/\")"
   ]
  },
  {
   "cell_type": "code",
   "execution_count": 18,
   "id": "984542af-a0b5-4d5d-a7a5-cb4207e1bfbd",
   "metadata": {},
   "outputs": [],
   "source": [
    "messages = [\n",
    "    {\"role\": \"system\", \"content\": system_prompt},\n",
    "    {\"role\": \"user\", \"content\": user_prompt}\n",
    "]"
   ]
  },
  {
   "cell_type": "code",
   "execution_count": 20,
   "id": "4aef2331-75a8-4306-8490-572692b18713",
   "metadata": {},
   "outputs": [],
   "source": [
    "# Update the payload to use your messages\n",
    "payload = {\n",
    "    \"model\": MODEL,\n",
    "    \"messages\": messages,\n",
    "    \"stream\": False\n",
    "}"
   ]
  },
  {
   "cell_type": "code",
   "execution_count": 21,
   "id": "07047f46-c032-4f96-bcf5-d7403516e8d0",
   "metadata": {},
   "outputs": [
    {
     "name": "stdout",
     "output_type": "stream",
     "text": [
      "According to the provided text, here are some of the top news stories and topics:\n",
      "\n",
      "1. **Politics**: \n",
      "\t* Former senior Biden aide appears before House committee in probe of former president’s alleged mental decline.\n",
      "\t* Stanford's student newspaper sues Trump administration over use of immigration law to target pro-Palestinian students.\n",
      "\t* GOP Rep. Cory Mills accused by ex-girlfriend of threatening to release sexually explicit images, videos of her.\n",
      "2. **Science and Discovery**:\n",
      "\t* Acting NASA chief fast-tracks plans to put a nuclear reactor on the moon.\n",
      "3. **Entertainment and Culture**:\n",
      "\t* 'The Walking Dead' actress Kelley Mack dies at 33.\n",
      "4. **Sports**:\n",
      "\t* Tennis coach Patrick Mouratoglou opens up on recent split with Naomi Osaka.\n",
      "\n",
      "These are just a few of the many topics covered in the provided text.\n"
     ]
    }
   ],
   "source": [
    "response = requests.post(OLLAMA_API, json=payload, headers=HEADERS)\n",
    "print(response.json()['message']['content'])"
   ]
  },
  {
   "cell_type": "code",
   "execution_count": null,
   "id": "1999176a-f6b2-4747-bce2-3e3f693f9afd",
   "metadata": {},
   "outputs": [],
   "source": []
  }
 ],
 "metadata": {
  "kernelspec": {
   "display_name": "Python 3 (ipykernel)",
   "language": "python",
   "name": "python3"
  },
  "language_info": {
   "codemirror_mode": {
    "name": "ipython",
    "version": 3
   },
   "file_extension": ".py",
   "mimetype": "text/x-python",
   "name": "python",
   "nbconvert_exporter": "python",
   "pygments_lexer": "ipython3",
   "version": "3.11.13"
  }
 },
 "nbformat": 4,
 "nbformat_minor": 5
}
