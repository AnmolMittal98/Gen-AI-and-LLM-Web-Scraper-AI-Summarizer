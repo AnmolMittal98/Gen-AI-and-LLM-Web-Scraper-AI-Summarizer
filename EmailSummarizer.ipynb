{
 "cells": [
  {
   "cell_type": "code",
   "execution_count": null,
   "id": "1b29c1db",
   "metadata": {},
   "outputs": [],
   "source": [
    "# Commercial Example: Suggest a Short Subject Line for an Email\n",
    "\n",
    "# Step 1: Create your prompts\n",
    "system_prompt = \"You are an assistant that reads the contents of an email and suggests a concise, relevant subject line. Respond with only the subject line.\"\n",
    "user_prompt = \"\"\"\n",
    "Hi team,\n",
    "\n",
    "I wanted to let you know that our quarterly sales numbers have exceeded expectations. We will be holding a meeting next Monday to discuss the results and plan for the next quarter. Please let me know if you have any questions.\n",
    "\n",
    "Best,\n",
    "Alex\n",
    "\"\"\"\n",
    "\n",
    "# Step 2: Make the messages list\n",
    "messages = [\n",
    "    {\"role\": \"system\", \"content\": system_prompt},\n",
    "    {\"role\": \"user\", \"content\": user_prompt}\n",
    "]\n",
    "\n",
    "# Step 3: Call OpenAI\n",
    "response = openai.chat.completions.create(model=\"gpt-4o-mini\", messages=messages)\n",
    "\n",
    "# Step 4: print the result\n",
    "print(response.choices[0].message.content)"
   ]
  }
 ],
 "metadata": {
  "language_info": {
   "name": "python"
  }
 },
 "nbformat": 4,
 "nbformat_minor": 5
}
