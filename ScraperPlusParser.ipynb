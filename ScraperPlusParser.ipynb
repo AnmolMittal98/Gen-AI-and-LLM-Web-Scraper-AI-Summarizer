{
 "cells": [
  {
   "cell_type": "code",
   "execution_count": 1,
   "id": "240eaa14-1591-42f2-8507-c3bc8bdf7a54",
   "metadata": {},
   "outputs": [],
   "source": [
    "# imports\n",
    "\n",
    "import os\n",
    "import requests\n",
    "from dotenv import load_dotenv\n",
    "from bs4 import BeautifulSoup\n",
    "from IPython.display import Markdown, display\n",
    "from openai import OpenAI"
   ]
  },
  {
   "cell_type": "code",
   "execution_count": 2,
   "id": "97e6b6e5-54c5-4d80-9603-6e226540a274",
   "metadata": {},
   "outputs": [
    {
     "name": "stdout",
     "output_type": "stream",
     "text": [
      "API key found and looks good so far!\n"
     ]
    }
   ],
   "source": [
    "# Load environment variables in a file called .env\n",
    "\n",
    "load_dotenv(override=True)\n",
    "api_key = os.getenv('OPENAI_API_KEY')\n",
    "\n",
    "# Check the key\n",
    "\n",
    "if not api_key:\n",
    "    print(\"No API key was found - please head over to the troubleshooting notebook in this folder to identify & fix!\")\n",
    "elif not api_key.startswith(\"sk-proj-\"):\n",
    "    print(\"An API key was found, but it doesn't start sk-proj-; please check you're using the right key - see troubleshooting notebook\")\n",
    "elif api_key.strip() != api_key:\n",
    "    print(\"An API key was found, but it looks like it might have space or tab characters at the start or end - please remove them - see troubleshooting notebook\")\n",
    "else:\n",
    "    print(\"API key found and looks good so far!\")"
   ]
  },
  {
   "cell_type": "code",
   "execution_count": 3,
   "id": "36fb80aa-ab0d-4f06-8e12-310121ee37e5",
   "metadata": {},
   "outputs": [],
   "source": [
    "openai = OpenAI()"
   ]
  },
  {
   "cell_type": "code",
   "execution_count": 4,
   "id": "8e408724-4e6b-49ee-9990-efbdcd0561bf",
   "metadata": {},
   "outputs": [
    {
     "name": "stdout",
     "output_type": "stream",
     "text": [
      "Hello! Welcome! I'm glad to hear from you. How can I assist you today?\n"
     ]
    }
   ],
   "source": [
    "message = \"Hello, GPT! This is my first ever message to you! Hi!\"\n",
    "response = openai.chat.completions.create(model=\"gpt-4o-mini\", messages=[{\"role\":\"user\", \"content\":message}])\n",
    "print(response.choices[0].message.content)"
   ]
  },
  {
   "cell_type": "code",
   "execution_count": 5,
   "id": "507f1ed3-cd52-4b92-b914-6402ad68824b",
   "metadata": {},
   "outputs": [],
   "source": [
    "# Some websites need you to use proper headers when fetching them:\n",
    "headers = {\n",
    " \"User-Agent\": \"Mozilla/5.0 (Windows NT 10.0; Win64; x64) AppleWebKit/537.36 (KHTML, like Gecko) Chrome/117.0.0.0 Safari/537.36\"\n",
    "}\n",
    "\n",
    "class Website:\n",
    "\n",
    "    def __init__(self, url):\n",
    "        \"\"\"\n",
    "        Create this Website object from the given url using the BeautifulSoup library\n",
    "        \"\"\"\n",
    "        self.url = url\n",
    "        response = requests.get(url, headers=headers)\n",
    "        soup = BeautifulSoup(response.content, 'html.parser')\n",
    "        self.title = soup.title.string if soup.title else \"No title found\"\n",
    "        for irrelevant in soup.body([\"script\", \"style\", \"img\", \"input\"]):\n",
    "            irrelevant.decompose()\n",
    "        self.text = soup.body.get_text(separator=\"\\n\", strip=True)"
   ]
  },
  {
   "cell_type": "code",
   "execution_count": 6,
   "id": "d870ad3e-7d5b-4467-94ee-a516d1b208c9",
   "metadata": {},
   "outputs": [
    {
     "name": "stdout",
     "output_type": "stream",
     "text": [
      "vCard - Personal Portfolio\n",
      "Anmol Mittal\n",
      "Software Engineer\n",
      "Show Contacts\n",
      "Email\n",
      "98anmolm@gmail.com\n",
      "LinkedIn\n",
      "My Profile\n",
      "Birthday\n",
      "1998\n",
      "Location\n",
      "Massachusetts, USA\n",
      "About\n",
      "Resume\n",
      "Contact\n",
      "About me\n",
      "Software Engineer @ MathWorks | USC CS Alum | Full-Stack Web Development | Gen AI | Mobile Development\n",
      "At MathWorks, I’m driven by the challenge of turning complex technical requirements into elegant and efficient code. I have a proven track record of leading projects that enhance security, optimize content management, and streamline operations, all while collaborating closely with cross-functional teams to ensure the highest quality outcomes.\n",
      "I’m well-versed in Java, Python, C++, and JavaScript, constantly honing my skills and staying abreast of the latest industry trends. My experience across various industries has equipped me with the versatility to adapt quickly and deliver under pressure.\n",
      "What i'm doing\n",
      "Generative AI Solutions\n",
      "Develop innovative AI-driven solutions to solve complex problems across industries, leveraging the power of generative models.\n",
      "Full-Stack Web Development\n",
      "Create end-to-end web solutions, from front-end user interfaces to back-end systems, ensuring a seamless and efficient user experience.\n",
      "Mobile App Development\n",
      "Build high-performance mobile applications for iOS and Android, with a focus on user-centric design and functionality.\n",
      "Photography\n",
      "Capture and edit high-quality photographs that tell compelling stories, enhancing both personal and professional projects.\n",
      "Testimonials\n",
      "Yiding Xu\n",
      "I worked closely with Anmol on a software development project as a technical product manager, though Anmol started as a junior position, I was constantly amazed by his ability to adapt new technology and how he solves some challenging topic with out-of-the-box approaches. Anmol performed his role exceptionally.\n",
      "Rena Berman\n",
      "Anmol worked on his first Ruby on Rails project for me at MathWorks; adding a new workflow onto an existing feature. He was able to ramp up very quickly on new technologies and a complex design. I was very impressed that Anmol was able to suggest improvements to the new design barely a week into the project. He is eager to learn, doesn't waste time, and is very easy to work with. I would highly recommend Anmol!Anmol worked on his first Ruby on Rails project for me at MathWorks; adding a new workflow onto an existing feature. He was able to ramp up very quickly on new technologies and a complex design. I was very impressed that Anmol was able to suggest improvements to the new design barely a week into the project. He is eager to learn, doesn't waste time, and is very easy to work with. I would highly recommend Anmol!\n",
      "Julianne Crea\n",
      "I worked with Anmol for a few months on a project, overseeing the project, syncing requirements, and reviewing code. Anmol contributed important developments to the team and tool that was being developed! He was dedicated and always quick to assist me with any questions. I saw his code improve over the months we worked together.\n",
      "Darshan Kalathil\n",
      "Anmol knows when to crack a joke to lift our spirits, and when to get back to work in all seriousness. This endearing quality, coupled with the fact that he is a smart and enthusiastic individual makes him a joy to work with.\n",
      "He has a firm grasp over the fundamentals, allowing him to pick up new languages and frameworks easily. He would take very little time to become an independent worker, even when he was introduced to new things while working on his projects.\n",
      "Daniel lewis\n",
      "Richard was hired to create a corporate identity. We were very pleased with the work done. She has a\n",
      "                  lot of experience\n",
      "                  and is very concerned about the needs of client. Lorem ipsum dolor sit amet, ullamcous cididt\n",
      "                  consectetur adipiscing\n",
      "                  elit, seds do et eiusmod tempor incididunt ut laborels dolore magnarels alia.\n",
      "Resume\n",
      "Education\n",
      "University of Southern California\n",
      "2021 — 2023\n",
      "Guru Gobind Singh Indraprastha University\n",
      "2016-2020\n",
      "Experience\n",
      "Software Engineer, MathWorks\n",
      "June, 2023 — Present\n",
      "Software Engineer Intern, MathWorks\n",
      "May, 2022 — August, 2022\n",
      "Software Developer, AppDesk Services\n",
      "September, 2021 — July, 2022\n",
      "My skills\n",
      "Front - End Web Development\n",
      "80%\n",
      "Back - End Web Development\n",
      "90%\n",
      "Generative AI\n",
      "70%\n",
      "Data Structures and Algorithms\n",
      "90%\n",
      "Projects\n",
      "All\n",
      "Web design\n",
      "Applications\n",
      "Web development\n",
      "Select category\n",
      "All\n",
      "Web design\n",
      "Applications\n",
      "Web development\n",
      "Finance\n",
      "Web development\n",
      "Orizon\n",
      "Web development\n",
      "Fundo\n",
      "Web design\n",
      "Brawlhalla\n",
      "Applications\n",
      "DSM.\n",
      "Web design\n",
      "MetaSpark\n",
      "Web design\n",
      "Summary\n",
      "Web development\n",
      "Task Manager\n",
      "Applications\n",
      "Arrival\n",
      "Web development\n",
      "Contact\n",
      "Contact Form\n",
      "Send Message\n"
     ]
    }
   ],
   "source": [
    "website = Website(\"Your Website Link Goes Here\")\n",
    "print(website.title)\n",
    "print(website.text)"
   ]
  },
  {
   "cell_type": "code",
   "execution_count": 7,
   "id": "64b78cd6-1f2d-4223-a9dc-15fe4e65605f",
   "metadata": {},
   "outputs": [],
   "source": [
    "system_prompt = \"You are an assistant that analyzes the contents of a website \\\n",
    "and provides a short summary, ignoring text that might be navigation related. \\\n",
    "Respond in markdown.\""
   ]
  },
  {
   "cell_type": "code",
   "execution_count": 8,
   "id": "1698afd7-10d7-454d-bb23-e72f49fd5d7b",
   "metadata": {},
   "outputs": [],
   "source": [
    "# A function that writes a User Prompt that asks for summaries of websites:\n",
    "\n",
    "def user_prompt_for(website):\n",
    "    user_prompt = f\"You are looking at a website titled {website.title}\"\n",
    "    user_prompt += \"\\nThe contents of this website is as follows; \\\n",
    "please provide a short summary of this website in markdown. \\\n",
    "If it includes news or announcements, then summarize these too.\\n\\n\"\n",
    "    user_prompt += website.text\n",
    "    return user_prompt"
   ]
  },
  {
   "cell_type": "code",
   "execution_count": 9,
   "id": "e7f9f414-6d1d-4d93-b42a-3dff27e344b7",
   "metadata": {},
   "outputs": [
    {
     "name": "stdout",
     "output_type": "stream",
     "text": [
      "You are looking at a website titled vCard - Personal Portfolio\n",
      "The contents of this website is as follows; please provide a short summary of this website in markdown. If it includes news or announcements, then summarize these too.\n",
      "\n",
      "Anmol Mittal\n",
      "Software Engineer\n",
      "Show Contacts\n",
      "Email\n",
      "98anmolm@gmail.com\n",
      "LinkedIn\n",
      "My Profile\n",
      "Birthday\n",
      "1998\n",
      "Location\n",
      "Massachusetts, USA\n",
      "About\n",
      "Resume\n",
      "Contact\n",
      "About me\n",
      "Software Engineer @ MathWorks | USC CS Alum | Full-Stack Web Development | Gen AI | Mobile Development\n",
      "At MathWorks, I’m driven by the challenge of turning complex technical requirements into elegant and efficient code. I have a proven track record of leading projects that enhance security, optimize content management, and streamline operations, all while collaborating closely with cross-functional teams to ensure the highest quality outcomes.\n",
      "I’m well-versed in Java, Python, C++, and JavaScript, constantly honing my skills and staying abreast of the latest industry trends. My experience across various industries has equipped me with the versatility to adapt quickly and deliver under pressure.\n",
      "What i'm doing\n",
      "Generative AI Solutions\n",
      "Develop innovative AI-driven solutions to solve complex problems across industries, leveraging the power of generative models.\n",
      "Full-Stack Web Development\n",
      "Create end-to-end web solutions, from front-end user interfaces to back-end systems, ensuring a seamless and efficient user experience.\n",
      "Mobile App Development\n",
      "Build high-performance mobile applications for iOS and Android, with a focus on user-centric design and functionality.\n",
      "Photography\n",
      "Capture and edit high-quality photographs that tell compelling stories, enhancing both personal and professional projects.\n",
      "Testimonials\n",
      "Yiding Xu\n",
      "I worked closely with Anmol on a software development project as a technical product manager, though Anmol started as a junior position, I was constantly amazed by his ability to adapt new technology and how he solves some challenging topic with out-of-the-box approaches. Anmol performed his role exceptionally.\n",
      "Rena Berman\n",
      "Anmol worked on his first Ruby on Rails project for me at MathWorks; adding a new workflow onto an existing feature. He was able to ramp up very quickly on new technologies and a complex design. I was very impressed that Anmol was able to suggest improvements to the new design barely a week into the project. He is eager to learn, doesn't waste time, and is very easy to work with. I would highly recommend Anmol!Anmol worked on his first Ruby on Rails project for me at MathWorks; adding a new workflow onto an existing feature. He was able to ramp up very quickly on new technologies and a complex design. I was very impressed that Anmol was able to suggest improvements to the new design barely a week into the project. He is eager to learn, doesn't waste time, and is very easy to work with. I would highly recommend Anmol!\n",
      "Julianne Crea\n",
      "I worked with Anmol for a few months on a project, overseeing the project, syncing requirements, and reviewing code. Anmol contributed important developments to the team and tool that was being developed! He was dedicated and always quick to assist me with any questions. I saw his code improve over the months we worked together.\n",
      "Darshan Kalathil\n",
      "Anmol knows when to crack a joke to lift our spirits, and when to get back to work in all seriousness. This endearing quality, coupled with the fact that he is a smart and enthusiastic individual makes him a joy to work with.\n",
      "He has a firm grasp over the fundamentals, allowing him to pick up new languages and frameworks easily. He would take very little time to become an independent worker, even when he was introduced to new things while working on his projects.\n",
      "Daniel lewis\n",
      "Richard was hired to create a corporate identity. We were very pleased with the work done. She has a\n",
      "                  lot of experience\n",
      "                  and is very concerned about the needs of client. Lorem ipsum dolor sit amet, ullamcous cididt\n",
      "                  consectetur adipiscing\n",
      "                  elit, seds do et eiusmod tempor incididunt ut laborels dolore magnarels alia.\n",
      "Resume\n",
      "Education\n",
      "University of Southern California\n",
      "2021 — 2023\n",
      "Guru Gobind Singh Indraprastha University\n",
      "2016-2020\n",
      "Experience\n",
      "Software Engineer, MathWorks\n",
      "June, 2023 — Present\n",
      "Software Engineer Intern, MathWorks\n",
      "May, 2022 — August, 2022\n",
      "Software Developer, AppDesk Services\n",
      "September, 2021 — July, 2022\n",
      "My skills\n",
      "Front - End Web Development\n",
      "80%\n",
      "Back - End Web Development\n",
      "90%\n",
      "Generative AI\n",
      "70%\n",
      "Data Structures and Algorithms\n",
      "90%\n",
      "Projects\n",
      "All\n",
      "Web design\n",
      "Applications\n",
      "Web development\n",
      "Select category\n",
      "All\n",
      "Web design\n",
      "Applications\n",
      "Web development\n",
      "Finance\n",
      "Web development\n",
      "Orizon\n",
      "Web development\n",
      "Fundo\n",
      "Web design\n",
      "Brawlhalla\n",
      "Applications\n",
      "DSM.\n",
      "Web design\n",
      "MetaSpark\n",
      "Web design\n",
      "Summary\n",
      "Web development\n",
      "Task Manager\n",
      "Applications\n",
      "Arrival\n",
      "Web development\n",
      "Contact\n",
      "Contact Form\n",
      "Send Message\n"
     ]
    }
   ],
   "source": [
    "print(user_prompt_for(website))"
   ]
  },
  {
   "cell_type": "code",
   "execution_count": 10,
   "id": "bfc37664-ae94-4f9f-a7e0-c128019b7416",
   "metadata": {},
   "outputs": [],
   "source": [
    "# The API from OpenAI expects to receive messages in a particular structure. Many of the other APIs share this structure:\n",
    "\n",
    "# [\n",
    "#     {\"role\": \"system\", \"content\": \"system message goes here\"},\n",
    "#     {\"role\": \"user\", \"content\": \"user message goes here\"}\n",
    "# ]\n",
    "messages = [\n",
    "    {\"role\": \"system\", \"content\": \"You are a snarky assistant\"},\n",
    "    {\"role\": \"user\", \"content\": \"What is 2 + 2?\"}\n",
    "]"
   ]
  },
  {
   "cell_type": "code",
   "execution_count": 11,
   "id": "335a7a9a-0c5a-4f45-988e-3ad71c58312d",
   "metadata": {},
   "outputs": [
    {
     "name": "stdout",
     "output_type": "stream",
     "text": [
      "Oh, we’re starting off with a real brain teaser, huh? Alright, drumroll, please... the answer is 4. Shocking, I know!\n"
     ]
    }
   ],
   "source": [
    "response = openai.chat.completions.create(model=\"gpt-4o-mini\", messages=messages)\n",
    "print(response.choices[0].message.content)"
   ]
  },
  {
   "cell_type": "code",
   "execution_count": 12,
   "id": "e2760908-73c8-4a7c-a2ec-b47c2eacc0f5",
   "metadata": {},
   "outputs": [],
   "source": [
    "def messages_for(website):\n",
    "    return [\n",
    "        {\"role\": \"system\", \"content\": system_prompt},\n",
    "        {\"role\": \"user\", \"content\": user_prompt_for(website)}\n",
    "    ]"
   ]
  },
  {
   "cell_type": "code",
   "execution_count": 13,
   "id": "3895122b-9f98-4ffb-92c9-a8b5f2561623",
   "metadata": {},
   "outputs": [
    {
     "data": {
      "text/plain": [
       "[{'role': 'system',\n",
       "  'content': 'You are an assistant that analyzes the contents of a website and provides a short summary, ignoring text that might be navigation related. Respond in markdown.'},\n",
       " {'role': 'user',\n",
       "  'content': \"You are looking at a website titled vCard - Personal Portfolio\\nThe contents of this website is as follows; please provide a short summary of this website in markdown. If it includes news or announcements, then summarize these too.\\n\\nAnmol Mittal\\nSoftware Engineer\\nShow Contacts\\nEmail\\n98anmolm@gmail.com\\nLinkedIn\\nMy Profile\\nBirthday\\n1998\\nLocation\\nMassachusetts, USA\\nAbout\\nResume\\nContact\\nAbout me\\nSoftware Engineer @ MathWorks | USC CS Alum | Full-Stack Web Development | Gen AI | Mobile Development\\nAt MathWorks, I’m driven by the challenge of turning complex technical requirements into elegant and efficient code. I have a proven track record of leading projects that enhance security, optimize content management, and streamline operations, all while collaborating closely with cross-functional teams to ensure the highest quality outcomes.\\nI’m well-versed in Java, Python, C++, and JavaScript, constantly honing my skills and staying abreast of the latest industry trends. My experience across various industries has equipped me with the versatility to adapt quickly and deliver under pressure.\\nWhat i'm doing\\nGenerative AI Solutions\\nDevelop innovative AI-driven solutions to solve complex problems across industries, leveraging the power of generative models.\\nFull-Stack Web Development\\nCreate end-to-end web solutions, from front-end user interfaces to back-end systems, ensuring a seamless and efficient user experience.\\nMobile App Development\\nBuild high-performance mobile applications for iOS and Android, with a focus on user-centric design and functionality.\\nPhotography\\nCapture and edit high-quality photographs that tell compelling stories, enhancing both personal and professional projects.\\nTestimonials\\nYiding Xu\\nI worked closely with Anmol on a software development project as a technical product manager, though Anmol started as a junior position, I was constantly amazed by his ability to adapt new technology and how he solves some challenging topic with out-of-the-box approaches. Anmol performed his role exceptionally.\\nRena Berman\\nAnmol worked on his first Ruby on Rails project for me at MathWorks; adding a new workflow onto an existing feature. He was able to ramp up very quickly on new technologies and a complex design. I was very impressed that Anmol was able to suggest improvements to the new design barely a week into the project. He is eager to learn, doesn't waste time, and is very easy to work with. I would highly recommend Anmol!Anmol worked on his first Ruby on Rails project for me at MathWorks; adding a new workflow onto an existing feature. He was able to ramp up very quickly on new technologies and a complex design. I was very impressed that Anmol was able to suggest improvements to the new design barely a week into the project. He is eager to learn, doesn't waste time, and is very easy to work with. I would highly recommend Anmol!\\nJulianne Crea\\nI worked with Anmol for a few months on a project, overseeing the project, syncing requirements, and reviewing code. Anmol contributed important developments to the team and tool that was being developed! He was dedicated and always quick to assist me with any questions. I saw his code improve over the months we worked together.\\nDarshan Kalathil\\nAnmol knows when to crack a joke to lift our spirits, and when to get back to work in all seriousness. This endearing quality, coupled with the fact that he is a smart and enthusiastic individual makes him a joy to work with.\\nHe has a firm grasp over the fundamentals, allowing him to pick up new languages and frameworks easily. He would take very little time to become an independent worker, even when he was introduced to new things while working on his projects.\\nDaniel lewis\\nRichard was hired to create a corporate identity. We were very pleased with the work done. She has a\\n                  lot of experience\\n                  and is very concerned about the needs of client. Lorem ipsum dolor sit amet, ullamcous cididt\\n                  consectetur adipiscing\\n                  elit, seds do et eiusmod tempor incididunt ut laborels dolore magnarels alia.\\nResume\\nEducation\\nUniversity of Southern California\\n2021 — 2023\\nGuru Gobind Singh Indraprastha University\\n2016-2020\\nExperience\\nSoftware Engineer, MathWorks\\nJune, 2023 — Present\\nSoftware Engineer Intern, MathWorks\\nMay, 2022 — August, 2022\\nSoftware Developer, AppDesk Services\\nSeptember, 2021 — July, 2022\\nMy skills\\nFront - End Web Development\\n80%\\nBack - End Web Development\\n90%\\nGenerative AI\\n70%\\nData Structures and Algorithms\\n90%\\nProjects\\nAll\\nWeb design\\nApplications\\nWeb development\\nSelect category\\nAll\\nWeb design\\nApplications\\nWeb development\\nFinance\\nWeb development\\nOrizon\\nWeb development\\nFundo\\nWeb design\\nBrawlhalla\\nApplications\\nDSM.\\nWeb design\\nMetaSpark\\nWeb design\\nSummary\\nWeb development\\nTask Manager\\nApplications\\nArrival\\nWeb development\\nContact\\nContact Form\\nSend Message\"}]"
      ]
     },
     "execution_count": 13,
     "metadata": {},
     "output_type": "execute_result"
    }
   ],
   "source": [
    "messages_for(website)"
   ]
  },
  {
   "cell_type": "code",
   "execution_count": 14,
   "id": "09817414-9a79-4937-b4e2-dba60becab3d",
   "metadata": {},
   "outputs": [],
   "source": [
    "def summarize(url):\n",
    "    website = Website(url)\n",
    "    response = openai.chat.completions.create(\n",
    "        model = \"gpt-4o-mini\",\n",
    "        messages = messages_for(website)\n",
    "    )\n",
    "    return response.choices[0].message.content"
   ]
  },
  {
   "cell_type": "code",
   "execution_count": 15,
   "id": "1f4cb55b-0a09-4182-83d9-055128c8f0ab",
   "metadata": {},
   "outputs": [
    {
     "data": {
      "text/plain": [
       "\"# vCard - Personal Portfolio\\n\\n**Anmol Mittal**  \\n*Software Engineer*\\n\\n### Overview\\nAnmol Mittal is a skilled Software Engineer based in Massachusetts, USA, with a degree in Computer Science from the University of Southern California. His expertise encompasses full-stack web development, generative AI, and mobile app development.\\n\\n### About Me\\nAnmol works at MathWorks, focusing on transforming complex technical requirements into efficient code. He has hands-on experience in various programming languages, including Java, Python, C++, and JavaScript. His professional journey has equipped him with the ability to adapt quickly across industries.\\n\\n### Current Work\\n- **Generative AI Solutions:** Developing AI-driven solutions to address complex challenges.\\n- **Full-Stack Web Development:** Crafting comprehensive web solutions ensuring optimal user experiences.\\n- **Mobile App Development:** Creating high-performance applications for iOS and Android.\\n- **Photography:** Producing high-quality photographs for personal and professional use.\\n\\n### Testimonials\\nAnmol has received positive feedback from colleagues, highlighting his quick adaptability to new technologies, strong problem-solving skills, and collaborative spirit. Clients appreciate his dedication and effectiveness in delivering quality work.\\n\\n### Education\\n- University of Southern California (2021 - 2023)\\n- Guru Gobind Singh Indraprastha University (2016 - 2020)\\n\\n### Work Experience\\n- **Software Engineer, MathWorks** (June 2023 - Present)\\n- **Software Engineer Intern, MathWorks** (May 2022 - August 2022)\\n- **Software Developer, AppDesk Services** (September 2021 - July 2022)\\n\\n### Skills\\n- Front-End Web Development: 80%\\n- Back-End Web Development: 90%\\n- Generative AI: 70%\\n- Data Structures and Algorithms: 90%\\n\\n### Projects\\nAnmol has worked on various projects across web design and application development, showcasing a broad range of skills and creativity.\\n\\n---\\n\\nThis summary presents Anmol Mittal's professional journey, skills, and current projects, encapsulating his expertise and experiences in software engineering.\""
      ]
     },
     "execution_count": 15,
     "metadata": {},
     "output_type": "execute_result"
    }
   ],
   "source": [
    "summarize(\"Your Website Link Goes Here\")"
   ]
  },
  {
   "cell_type": "code",
   "execution_count": 16,
   "id": "e4e6f638-6ad1-4a6b-bd55-3c2d5f71c2c2",
   "metadata": {},
   "outputs": [],
   "source": [
    "# A function to display this nicely in the Jupyter output, using markdown\n",
    "\n",
    "def display_summary(url):\n",
    "    summary = summarize(url)\n",
    "    display(Markdown(summary))"
   ]
  },
  {
   "cell_type": "code",
   "execution_count": 17,
   "id": "74cc6c21-5a52-4627-8904-2a90cac436fe",
   "metadata": {},
   "outputs": [
    {
     "data": {
      "text/markdown": [
       "# vCard - Personal Portfolio Summary\n",
       "\n",
       "**Name:** Anmol Mittal  \n",
       "**Title:** Software Engineer  \n",
       "**Location:** Massachusetts, USA  \n",
       "**Email:** 98anmolm@gmail.com  \n",
       "**LinkedIn:** [My Profile](#)  \n",
       "\n",
       "## About Me\n",
       "- Software Engineer at MathWorks with a focus on full-stack web development, generative AI, and mobile development.\n",
       "- USC CS Alum with expertise in Java, Python, C++, and JavaScript.\n",
       "- Known for turning complex requirements into efficient code, leading projects to enhance security, and optimizing operations through collaboration with teams.\n",
       "\n",
       "## Current Focus\n",
       "- **Generative AI Solutions:** Developing AI-driven solutions across various industries.\n",
       "- **Full-Stack Web Development:** Creating seamless web solutions from user interface to backend.\n",
       "- **Mobile App Development:** Building high-performance mobile apps for iOS and Android.\n",
       "\n",
       "## Skills\n",
       "- Front-End Web Development: 80%\n",
       "- Back-End Web Development: 90%\n",
       "- Generative AI: 70%\n",
       "- Data Structures and Algorithms: 90%\n",
       "\n",
       "## Education\n",
       "- **University of Southern California:** 2021 — 2023\n",
       "- **Guru Gobind Singh Indraprastha University:** 2016-2020\n",
       "\n",
       "## Experience\n",
       "- **Software Engineer, MathWorks:** June 2023 — Present\n",
       "- **Software Engineer Intern, MathWorks:** May 2022 — August 2022\n",
       "- **Software Developer, AppDesk Services:** September 2021 — July 2022\n",
       "\n",
       "## Testimonials\n",
       "Anmol has received praise from colleagues for his quick adaptability, eagerness to learn, and significant contributions to projects. \n",
       "\n",
       "Overall, Anmol Mittal's portfolio showcases a skilled software engineer with a strong foundation in development and a commitment to innovation."
      ],
      "text/plain": [
       "<IPython.core.display.Markdown object>"
      ]
     },
     "metadata": {},
     "output_type": "display_data"
    }
   ],
   "source": [
    "display_summary(\"Your Website Link Goes Here\")"
   ]
  },
  {
   "cell_type": "code",
   "execution_count": null,
   "id": "2171406c-c089-4144-967f-d0023179bbce",
   "metadata": {},
   "outputs": [],
   "source": []
  }
 ],
 "metadata": {
  "kernelspec": {
   "display_name": "Python 3 (ipykernel)",
   "language": "python",
   "name": "python3"
  },
  "language_info": {
   "codemirror_mode": {
    "name": "ipython",
    "version": 3
   },
   "file_extension": ".py",
   "mimetype": "text/x-python",
   "name": "python",
   "nbconvert_exporter": "python",
   "pygments_lexer": "ipython3",
   "version": "3.11.13"
  }
 },
 "nbformat": 4,
 "nbformat_minor": 5
}
